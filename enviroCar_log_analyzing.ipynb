{
 "cells": [
  {
   "cell_type": "markdown",
   "id": "e9e40630-6f44-4455-a56c-e17ec97af979",
   "metadata": {},
   "source": [
    "# enviroCar log analysing"
   ]
  },
  {
   "cell_type": "markdown",
   "id": "c986442e-2829-479f-8293-98c9afe798b8",
   "metadata": {},
   "source": [
    "This notebook provides some guidance in how to get some insights from enviroCar log files."
   ]
  },
  {
   "cell_type": "code",
   "execution_count": 1,
   "id": "fe3d14e2-97a1-4ef8-9cae-d78e49c51ead",
   "metadata": {},
   "outputs": [],
   "source": [
    "import matplotlib.pyplot as plt\n",
    "import matplotlib.dates as mdates\n",
    "import seaborn as sns\n",
    "from scripts import logparsing\n",
    "from scripts import plotutils\n",
    "import pandas as pd\n",
    "\n",
    "plt.style.use('ggplot')\n",
    "\n",
    "log_path = \"./data/envirocar.log\""
   ]
  },
  {
   "cell_type": "markdown",
   "id": "fe7309fb-6f82-4994-bc3d-a308bccc7373",
   "metadata": {},
   "source": [
    "## Log report parsing"
   ]
  },
  {
   "cell_type": "markdown",
   "id": "58f7588d-f1c8-432d-89a1-f51472813e47",
   "metadata": {},
   "source": [
    "Parse an enviroCar log file for PID response messages and create a Pandas DataFrame. The resulting DataFrame is time indexed and contains information about a PID event and the corresponding measurement value."
   ]
  },
  {
   "cell_type": "code",
   "execution_count": 2,
   "id": "3513d4de-7d14-47ce-a3a5-7d9576c61ccb",
   "metadata": {},
   "outputs": [
    {
     "data": {
      "text/html": [
       "<div>\n",
       "<style scoped>\n",
       "    .dataframe tbody tr th:only-of-type {\n",
       "        vertical-align: middle;\n",
       "    }\n",
       "\n",
       "    .dataframe tbody tr th {\n",
       "        vertical-align: top;\n",
       "    }\n",
       "\n",
       "    .dataframe thead th {\n",
       "        text-align: right;\n",
       "    }\n",
       "</style>\n",
       "<table border=\"1\" class=\"dataframe\">\n",
       "  <thead>\n",
       "    <tr style=\"text-align: right;\">\n",
       "      <th></th>\n",
       "      <th>pid</th>\n",
       "      <th>value</th>\n",
       "    </tr>\n",
       "    <tr>\n",
       "      <th>time</th>\n",
       "      <th></th>\n",
       "      <th></th>\n",
       "    </tr>\n",
       "  </thead>\n",
       "  <tbody>\n",
       "    <tr>\n",
       "      <th>2021-11-23 18:30:00.140</th>\n",
       "      <td>TPS</td>\n",
       "      <td>32.000000</td>\n",
       "    </tr>\n",
       "    <tr>\n",
       "      <th>2021-11-23 18:30:00.383</th>\n",
       "      <td>CALCULATED_ENGINE_LOAD</td>\n",
       "      <td>16.470589</td>\n",
       "    </tr>\n",
       "    <tr>\n",
       "      <th>2021-11-23 18:30:00.594</th>\n",
       "      <td>INTAKE_MAP</td>\n",
       "      <td>51.000000</td>\n",
       "    </tr>\n",
       "    <tr>\n",
       "      <th>2021-11-23 18:30:00.644</th>\n",
       "      <td>RPM</td>\n",
       "      <td>2212.000000</td>\n",
       "    </tr>\n",
       "    <tr>\n",
       "      <th>2021-11-23 18:30:00.735</th>\n",
       "      <td>SPEED</td>\n",
       "      <td>54.000000</td>\n",
       "    </tr>\n",
       "    <tr>\n",
       "      <th>...</th>\n",
       "      <td>...</td>\n",
       "      <td>...</td>\n",
       "    </tr>\n",
       "    <tr>\n",
       "      <th>2021-11-23 18:32:59.215</th>\n",
       "      <td>INTAKE_AIR_TEMP</td>\n",
       "      <td>9.000000</td>\n",
       "    </tr>\n",
       "    <tr>\n",
       "      <th>2021-11-23 18:32:59.277</th>\n",
       "      <td>MAF</td>\n",
       "      <td>2.570000</td>\n",
       "    </tr>\n",
       "    <tr>\n",
       "      <th>2021-11-23 18:32:59.326</th>\n",
       "      <td>TPS</td>\n",
       "      <td>22.000000</td>\n",
       "    </tr>\n",
       "    <tr>\n",
       "      <th>2021-11-23 18:32:59.529</th>\n",
       "      <td>CALCULATED_ENGINE_LOAD</td>\n",
       "      <td>4.705883</td>\n",
       "    </tr>\n",
       "    <tr>\n",
       "      <th>2021-11-23 18:32:59.790</th>\n",
       "      <td>INTAKE_MAP</td>\n",
       "      <td>18.000000</td>\n",
       "    </tr>\n",
       "  </tbody>\n",
       "</table>\n",
       "<p>2061 rows × 2 columns</p>\n",
       "</div>"
      ],
      "text/plain": [
       "                                            pid        value\n",
       "time                                                        \n",
       "2021-11-23 18:30:00.140                     TPS    32.000000\n",
       "2021-11-23 18:30:00.383  CALCULATED_ENGINE_LOAD    16.470589\n",
       "2021-11-23 18:30:00.594              INTAKE_MAP    51.000000\n",
       "2021-11-23 18:30:00.644                     RPM  2212.000000\n",
       "2021-11-23 18:30:00.735                   SPEED    54.000000\n",
       "...                                         ...          ...\n",
       "2021-11-23 18:32:59.215         INTAKE_AIR_TEMP     9.000000\n",
       "2021-11-23 18:32:59.277                     MAF     2.570000\n",
       "2021-11-23 18:32:59.326                     TPS    22.000000\n",
       "2021-11-23 18:32:59.529  CALCULATED_ENGINE_LOAD     4.705883\n",
       "2021-11-23 18:32:59.790              INTAKE_MAP    18.000000\n",
       "\n",
       "[2061 rows x 2 columns]"
      ]
     },
     "execution_count": 2,
     "metadata": {},
     "output_type": "execute_result"
    }
   ],
   "source": [
    "df = logparsing.parse_envirocar_log_pids(log_path)\n",
    "df"
   ]
  },
  {
   "cell_type": "markdown",
   "id": "a6df4c9c-15bd-4c21-b406-91a8013c731e",
   "metadata": {},
   "source": [
    "## Time-series measurement analysis"
   ]
  },
  {
   "cell_type": "markdown",
   "id": "69ea1348-cd7e-4202-929e-bb7f7e3020ee",
   "metadata": {},
   "source": [
    "Now we will create a time-series plot of speed measurements for a certain timespan. Note that you can adjust the x-axis label tick frequency in seconds by using the `freq_seconds` parameter."
   ]
  },
  {
   "cell_type": "code",
   "execution_count": 4,
   "id": "4d6381f7-ba51-4ae4-95de-d73d8188ba68",
   "metadata": {},
   "outputs": [
    {
     "data": {
      "image/png": "[encoded data removed]",
      "text/plain": [
       "<Figure size 1152x288 with 1 Axes>"
      ]
     },
     "metadata": {},
     "output_type": "display_data"
    }
   ],
   "source": [
    "fig, ax = plt.subplots(figsize=(16, 4))\n",
    "df_speed = df.loc[df[\"pid\"] == \"SPEED\"]\n",
    "ax = plotutils.plot(df_speed.loc[\"2021-11-23T18:30:00\":\"2021-11-23T18:31:00\"], freq_seconds=1, ax=ax)\n",
    "ax.set(title=\"PID measurements\", ylabel=\"Speed [km/h]\")\n",
    "plt.tight_layout()"
   ]
  },
  {
   "cell_type": "markdown",
   "id": "328f35e0-7cb9-49f6-91b1-7c0c392d8b55",
   "metadata": {},
   "source": [
    "## Frequency analysis\n",
    "Next, we want to calculate the frequency of the different PID measurements. We first group our DataFrame by PID with a frequency of one second. This results and in a Data Frame that shows the number of measurements for each PID per second."
   ]
  },
  {
   "cell_type": "code",
   "execution_count": null,
   "id": "cd0adc94-3cc5-4a7c-aa14-0de1126d6202",
   "metadata": {},
   "outputs": [],
   "source": [
    "df_frequency = df.groupby([pd.Grouper(freq='s'), 'pid']).count()\n",
    "df_frequency"
   ]
  },
  {
   "cell_type": "markdown",
   "id": "97c15349-9626-483b-86ed-261c32549876",
   "metadata": {},
   "source": [
    "Before we can plot the measurement frequency for a certain PID, we first have to reset the index, so that the DataFrame is indexed by time solely. We also have to sort the index, since the DataFrame may have become unsorted from the group by operation."
   ]
  },
  {
   "cell_type": "code",
   "execution_count": null,
   "id": "d0eba6f6-0568-42b7-9d44-399b8d4b50cb",
   "metadata": {},
   "outputs": [],
   "source": [
    "df_frequency.reset_index(level=\"pid\", inplace=True)\n",
    "df_frequency.sort_index(inplace=True)"
   ]
  },
  {
   "cell_type": "markdown",
   "id": "7152ba2a-4be5-4cde-be85-2adfc4adc1d1",
   "metadata": {},
   "source": [
    "Now we are able to select a certain PID and plot its measurement frequency."
   ]
  },
  {
   "cell_type": "code",
   "execution_count": null,
   "id": "90359d63-4b40-4aa8-9015-0fb39eb62bbb",
   "metadata": {},
   "outputs": [],
   "source": [
    "df_frequency_speed = df_frequency.loc[df_frequency[\"pid\"] == \"SPEED\"]\n",
    "fig, ax = plt.subplots(figsize=(16, 4))\n",
    "ax = plotutils.plot(df_frequency_speed.loc[\"2021-11-23T18:30:00\":\"2021-11-23T18:31:00\"], 1, ax)\n",
    "ax.set(xlabel=\"Time\", ylabel=\"Frequency\")\n",
    "ax.set(title=\"Measurement frequency\", ylabel=\"Number of measurements\")\n",
    "ax.yaxis.set_major_locator(plt.MaxNLocator(integer=True))\n",
    "plt.tight_layout()"
   ]
  }
 ],
 "metadata": {
  "kernelspec": {
   "display_name": "Python 3",
   "language": "python",
   "name": "python3"
  },
  "language_info": {
   "codemirror_mode": {
    "name": "ipython",
    "version": 3
   },
   "file_extension": ".py",
   "mimetype": "text/x-python",
   "name": "python",
   "nbconvert_exporter": "python",
   "pygments_lexer": "ipython3",
   "version": "3.9.2"
  }
 },
 "nbformat": 4,
 "nbformat_minor": 5
}
