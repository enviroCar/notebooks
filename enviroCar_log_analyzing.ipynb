{
 "cells": [
  {
   "cell_type": "markdown",
   "id": "e9e40630-6f44-4455-a56c-e17ec97af979",
   "metadata": {},
   "source": [
    "# enviroCar log analyzing"
   ]
  },
  {
   "cell_type": "markdown",
   "id": "c986442e-2829-479f-8293-98c9afe798b8",
   "metadata": {},
   "source": [
    "This notebook provides some guidance in how to get some insights from enviroCar log files."
   ]
  },
  {
   "cell_type": "code",
   "execution_count": 1,
   "id": "fe3d14e2-97a1-4ef8-9cae-d78e49c51ead",
   "metadata": {},
   "outputs": [],
   "source": [
    "import matplotlib.pyplot as plt\n",
    "import matplotlib.dates as mdates\n",
    "import seaborn as sns\n",
    "from scripts import logparsing\n",
    "from scripts import plotutils\n",
    "import pandas as pd\n",
    "\n",
    "plt.style.use('ggplot')\n",
    "\n",
    "log_path = \"./data/envirocar.log\""
   ]
  },
  {
   "cell_type": "markdown",
   "id": "58f7588d-f1c8-432d-89a1-f51472813e47",
   "metadata": {},
   "source": [
    "Parse an enviroCar log file for PID response messages and create a Pandas DataFrame. The resulting DataFrame is time indexed and contains information about a PID event and the corresponding measurement value."
   ]
  },
  {
   "cell_type": "code",
   "execution_count": 2,
   "id": "3513d4de-7d14-47ce-a3a5-7d9576c61ccb",
   "metadata": {},
   "outputs": [
    {
     "data": {
      "text/html": [
       "<div>\n",
       "<style scoped>\n",
       "    .dataframe tbody tr th:only-of-type {\n",
       "        vertical-align: middle;\n",
       "    }\n",
       "\n",
       "    .dataframe tbody tr th {\n",
       "        vertical-align: top;\n",
       "    }\n",
       "\n",
       "    .dataframe thead th {\n",
       "        text-align: right;\n",
       "    }\n",
       "</style>\n",
       "<table border=\"1\" class=\"dataframe\">\n",
       "  <thead>\n",
       "    <tr style=\"text-align: right;\">\n",
       "      <th></th>\n",
       "      <th>pid</th>\n",
       "      <th>value</th>\n",
       "    </tr>\n",
       "    <tr>\n",
       "      <th>time</th>\n",
       "      <th></th>\n",
       "      <th></th>\n",
       "    </tr>\n",
       "  </thead>\n",
       "  <tbody>\n",
       "    <tr>\n",
       "      <th>2021-11-23 18:21:34.568</th>\n",
       "      <td>CALCULATED_ENGINE_LOAD</td>\n",
       "      <td>11.372549</td>\n",
       "    </tr>\n",
       "    <tr>\n",
       "      <th>2021-11-23 18:21:34.625</th>\n",
       "      <td>INTAKE_MAP</td>\n",
       "      <td>36.000000</td>\n",
       "    </tr>\n",
       "    <tr>\n",
       "      <th>2021-11-23 18:21:34.683</th>\n",
       "      <td>RPM</td>\n",
       "      <td>768.000000</td>\n",
       "    </tr>\n",
       "    <tr>\n",
       "      <th>2021-11-23 18:21:34.731</th>\n",
       "      <td>SPEED</td>\n",
       "      <td>0.000000</td>\n",
       "    </tr>\n",
       "    <tr>\n",
       "      <th>2021-11-23 18:21:34.787</th>\n",
       "      <td>INTAKE_AIR_TEMP</td>\n",
       "      <td>8.000000</td>\n",
       "    </tr>\n",
       "    <tr>\n",
       "      <th>...</th>\n",
       "      <td>...</td>\n",
       "      <td>...</td>\n",
       "    </tr>\n",
       "    <tr>\n",
       "      <th>2021-11-23 18:22:59.942</th>\n",
       "      <td>TPS</td>\n",
       "      <td>22.000000</td>\n",
       "    </tr>\n",
       "    <tr>\n",
       "      <th>2021-11-23 18:23:00.031</th>\n",
       "      <td>CALCULATED_ENGINE_LOAD</td>\n",
       "      <td>12.549020</td>\n",
       "    </tr>\n",
       "    <tr>\n",
       "      <th>2021-11-23 18:23:00.107</th>\n",
       "      <td>INTAKE_MAP</td>\n",
       "      <td>42.000000</td>\n",
       "    </tr>\n",
       "    <tr>\n",
       "      <th>2021-11-23 18:23:00.210</th>\n",
       "      <td>RPM</td>\n",
       "      <td>721.000000</td>\n",
       "    </tr>\n",
       "    <tr>\n",
       "      <th>2021-11-23 18:23:00.262</th>\n",
       "      <td>SPEED</td>\n",
       "      <td>0.000000</td>\n",
       "    </tr>\n",
       "  </tbody>\n",
       "</table>\n",
       "<p>921 rows × 2 columns</p>\n",
       "</div>"
      ],
      "text/plain": [
       "                                            pid       value\n",
       "time                                                       \n",
       "2021-11-23 18:21:34.568  CALCULATED_ENGINE_LOAD   11.372549\n",
       "2021-11-23 18:21:34.625              INTAKE_MAP   36.000000\n",
       "2021-11-23 18:21:34.683                     RPM  768.000000\n",
       "2021-11-23 18:21:34.731                   SPEED    0.000000\n",
       "2021-11-23 18:21:34.787         INTAKE_AIR_TEMP    8.000000\n",
       "...                                         ...         ...\n",
       "2021-11-23 18:22:59.942                     TPS   22.000000\n",
       "2021-11-23 18:23:00.031  CALCULATED_ENGINE_LOAD   12.549020\n",
       "2021-11-23 18:23:00.107              INTAKE_MAP   42.000000\n",
       "2021-11-23 18:23:00.210                     RPM  721.000000\n",
       "2021-11-23 18:23:00.262                   SPEED    0.000000\n",
       "\n",
       "[921 rows x 2 columns]"
      ]
     },
     "execution_count": 2,
     "metadata": {},
     "output_type": "execute_result"
    }
   ],
   "source": [
    "df = logparsing.parse_envirocar_log_pids(log_path)\n",
    "df"
   ]
  },
  {
   "cell_type": "markdown",
   "id": "69ea1348-cd7e-4202-929e-bb7f7e3020ee",
   "metadata": {},
   "source": [
    "Now we will create a time-series plot of speed measurements for a certain timespan. Note that you can adjust the x-axis label tick frequency in seconds by using the `freq_seconds` parameter."
   ]
  },
  {
   "cell_type": "code",
   "execution_count": 3,
   "id": "4d6381f7-ba51-4ae4-95de-d73d8188ba68",
   "metadata": {},
   "outputs": [
    {
     "data": {
      "image/png": "[encoded data removed]",
      "text/plain": [
       "<Figure size 720x288 with 1 Axes>"
      ]
     },
     "metadata": {},
     "output_type": "display_data"
    }
   ],
   "source": [
    "df_speed = df.loc[df[\"pid\"] == \"SPEED\"]\n",
    "\n",
    "plotutils.plot(df_speed.loc[\"2021-11-23T18:21:00\":\"2021-11-23T18:22:00\"], freq_seconds=1)\n"
   ]
  }
 ],
 "metadata": {
  "kernelspec": {
   "display_name": "Python 3",
   "language": "python",
   "name": "python3"
  },
  "language_info": {
   "codemirror_mode": {
    "name": "ipython",
    "version": 3
   },
   "file_extension": ".py",
   "mimetype": "text/x-python",
   "name": "python",
   "nbconvert_exporter": "python",
   "pygments_lexer": "ipython3",
   "version": "3.9.2"
  }
 },
 "nbformat": 4,
 "nbformat_minor": 5
}
