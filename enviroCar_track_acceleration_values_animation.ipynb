{
  "nbformat": 4,
  "nbformat_minor": 0,
  "metadata": {
    "colab": {
      "name": "enviroCar track acceleration values animation.ipynb",
      "provenance": [],
      "collapsed_sections": [],
      "include_colab_link": true
    },
    "kernelspec": {
      "name": "python3",
      "display_name": "Python 3"
    }
  },
  "cells": [
    {
      "cell_type": "markdown",
      "metadata": {
        "id": "view-in-github",
        "colab_type": "text"
      },
      "source": [
        "<a href=\"https://colab.research.google.com/github/enviroCar/notebooks/blob/main/enviroCar_track_acceleration_values_animation.ipynb\" target=\"_parent\"><img src=\"https://colab.research.google.com/assets/colab-badge.svg\" alt=\"Open In Colab\"/></a>"
      ]
    },
    {
      "cell_type": "code",
      "metadata": {
        "id": "u7i9O65fWidU",
        "colab": {
          "base_uri": "https://localhost:8080/"
        },
        "outputId": "d3031c10-f75d-4859-f258-a7d5e997b7e0"
      },
      "source": [
        "!pip install geopandas pandas\n",
        "!pip install --no-deps envirocar-py \n",
        "\n",
        "# set an output directory for the animation and chart:\n",
        "root_dir = '/content/'\n",
        "\n",
        "%load_ext autoreload\n",
        "%autoreload 2\n",
        "\n",
        "# load dependencies\n",
        "import pandas as pd\n",
        "import geopandas as gpd\n",
        "\n",
        "from envirocar import TrackAPI, DownloadClient, ECConfig\n",
        "\n",
        "# create an initial but optional config and an api client\n",
        "config = ECConfig()\n",
        "track_api = TrackAPI(api_client=DownloadClient(config=config))"
      ],
      "execution_count": 1,
      "outputs": [
        {
          "output_type": "stream",
          "name": "stdout",
          "text": [
            "Collecting geopandas\n",
            "  Downloading geopandas-0.10.2-py2.py3-none-any.whl (1.0 MB)\n",
            "\u001b[K     |████████████████████████████████| 1.0 MB 5.1 MB/s \n",
            "\u001b[?25hRequirement already satisfied: pandas in /usr/local/lib/python3.7/dist-packages (1.1.5)\n",
            "Collecting fiona>=1.8\n",
            "  Downloading Fiona-1.8.20-cp37-cp37m-manylinux1_x86_64.whl (15.4 MB)\n",
            "\u001b[K     |████████████████████████████████| 15.4 MB 50.3 MB/s \n",
            "\u001b[?25hRequirement already satisfied: shapely>=1.6 in /usr/local/lib/python3.7/dist-packages (from geopandas) (1.8.0)\n",
            "Collecting pyproj>=2.2.0\n",
            "  Downloading pyproj-3.2.1-cp37-cp37m-manylinux2010_x86_64.whl (6.3 MB)\n",
            "\u001b[K     |████████████████████████████████| 6.3 MB 36.8 MB/s \n",
            "\u001b[?25hRequirement already satisfied: pytz>=2017.2 in /usr/local/lib/python3.7/dist-packages (from pandas) (2018.9)\n",
            "Requirement already satisfied: numpy>=1.15.4 in /usr/local/lib/python3.7/dist-packages (from pandas) (1.19.5)\n",
            "Requirement already satisfied: python-dateutil>=2.7.3 in /usr/local/lib/python3.7/dist-packages (from pandas) (2.8.2)\n",
            "Requirement already satisfied: click>=4.0 in /usr/local/lib/python3.7/dist-packages (from fiona>=1.8->geopandas) (7.1.2)\n",
            "Requirement already satisfied: setuptools in /usr/local/lib/python3.7/dist-packages (from fiona>=1.8->geopandas) (57.4.0)\n",
            "Collecting munch\n",
            "  Downloading munch-2.5.0-py2.py3-none-any.whl (10 kB)\n",
            "Requirement already satisfied: six>=1.7 in /usr/local/lib/python3.7/dist-packages (from fiona>=1.8->geopandas) (1.15.0)\n",
            "Collecting cligj>=0.5\n",
            "  Downloading cligj-0.7.2-py3-none-any.whl (7.1 kB)\n",
            "Requirement already satisfied: attrs>=17 in /usr/local/lib/python3.7/dist-packages (from fiona>=1.8->geopandas) (21.2.0)\n",
            "Collecting click-plugins>=1.0\n",
            "  Downloading click_plugins-1.1.1-py2.py3-none-any.whl (7.5 kB)\n",
            "Requirement already satisfied: certifi in /usr/local/lib/python3.7/dist-packages (from fiona>=1.8->geopandas) (2021.10.8)\n",
            "Installing collected packages: munch, cligj, click-plugins, pyproj, fiona, geopandas\n",
            "Successfully installed click-plugins-1.1.1 cligj-0.7.2 fiona-1.8.20 geopandas-0.10.2 munch-2.5.0 pyproj-3.2.1\n",
            "Collecting envirocar-py\n",
            "  Downloading envirocar-py-0.0.3.tar.gz (7.5 kB)\n",
            "Building wheels for collected packages: envirocar-py\n",
            "  Building wheel for envirocar-py (setup.py) ... \u001b[?25l\u001b[?25hdone\n",
            "  Created wheel for envirocar-py: filename=envirocar_py-0.0.3-py3-none-any.whl size=7404 sha256=0226b395c8625118ffa229e0d1386e90e8f6d009cb6dea506053ab6cbf2993c3\n",
            "  Stored in directory: /root/.cache/pip/wheels/36/95/27/fe998c23af5c471465b42f98644968ad806aa34b41d3092afb\n",
            "Successfully built envirocar-py\n",
            "Installing collected packages: envirocar-py\n",
            "Successfully installed envirocar-py-0.0.3\n"
          ]
        }
      ]
    },
    {
      "cell_type": "code",
      "metadata": {
        "id": "ba6xwqoQWjfZ"
      },
      "source": [
        "# import datetime to help define sample period:\n",
        "import datetime as dt\n",
        "# import pandas for data wrangling:\n",
        "import pandas as pd\n",
        "# import matplotlib, pyplot and animation for plotting and animating:\n",
        "import matplotlib\n",
        "import matplotlib.pyplot as plt\n",
        "import matplotlib.animation as animation\n",
        "\n",
        "# define the animation embed limit for matplotlib:\n",
        "matplotlib.rcParams['animation.embed_limit'] = 200**128"
      ],
      "execution_count": 2,
      "outputs": []
    },
    {
      "cell_type": "code",
      "metadata": {
        "id": "BXV2JghpWrOK"
      },
      "source": [
        "track_filter_start = \"2021-12-12T11:28:30Z\"\n",
        "track_filter_end = \"2021-12-12T11:50:Z\"\n",
        "track_id = \"61b5e0887b277d59bd0b2c8c\"\n",
        "track_df = track_api.get_tracks(time_interval=(track_filter_start, track_filter_end))"
      ],
      "execution_count": 3,
      "outputs": []
    },
    {
      "cell_type": "code",
      "source": [
        "print(len(track_df))\n",
        "df_excerpt = track_df[track_df[\"track.id\"].map(lambda x: x == track_id)]\n",
        "\n",
        "# remove head and tail as they are unprecise\n",
        "print(len(df_excerpt))\n",
        "df_excerpt = df_excerpt.head(len(df_excerpt) - 3)\n",
        "print(len(df_excerpt))\n",
        "df_excerpt = df_excerpt.tail(len(df_excerpt) - 3)\n",
        "print(len(df_excerpt))\n"
      ],
      "metadata": {
        "colab": {
          "base_uri": "https://localhost:8080/"
        },
        "id": "uZsSyubZKZ1H",
        "outputId": "64caae6d-ffde-4666-c525-790288a93799"
      },
      "execution_count": 4,
      "outputs": [
        {
          "output_type": "stream",
          "name": "stdout",
          "text": [
            "1266\n",
            "77\n",
            "74\n",
            "71\n"
          ]
        }
      ]
    },
    {
      "cell_type": "code",
      "source": [
        "import datetime\n",
        "from dateutil import parser\n",
        "df = df_excerpt\n",
        "\n",
        "# parse the time and use as index\n",
        "df['time_index'] = pd.to_datetime(df['time'])\n",
        "df = df.set_index('time_index')\n",
        "\n",
        "# only select phenomena of interest\n",
        "df = df[['time', 'Maximum GPS Acceleration.value', 'Minimum GPS Acceleration.value', 'Maximum Acceleration.value', 'Minimum Acceleration.value']]\n",
        "\n",
        "# resample to 1 second for better animation\n",
        "df = df.resample('s').fillna(\"bfill\")\n",
        "df"
      ],
      "metadata": {
        "colab": {
          "base_uri": "https://localhost:8080/",
          "height": 455
        },
        "id": "8ni2vDvGL4X6",
        "outputId": "f47dc4e3-e946-4906-8e6b-52884a2ec2c3"
      },
      "execution_count": 5,
      "outputs": [
        {
          "output_type": "execute_result",
          "data": {
            "text/html": [
              "<div>\n",
              "<style scoped>\n",
              "    .dataframe tbody tr th:only-of-type {\n",
              "        vertical-align: middle;\n",
              "    }\n",
              "\n",
              "    .dataframe tbody tr th {\n",
              "        vertical-align: top;\n",
              "    }\n",
              "\n",
              "    .dataframe thead th {\n",
              "        text-align: right;\n",
              "    }\n",
              "</style>\n",
              "<table border=\"1\" class=\"dataframe\">\n",
              "  <thead>\n",
              "    <tr style=\"text-align: right;\">\n",
              "      <th></th>\n",
              "      <th>time</th>\n",
              "      <th>Maximum GPS Acceleration.value</th>\n",
              "      <th>Minimum GPS Acceleration.value</th>\n",
              "      <th>Maximum Acceleration.value</th>\n",
              "      <th>Minimum Acceleration.value</th>\n",
              "    </tr>\n",
              "    <tr>\n",
              "      <th>time_index</th>\n",
              "      <th></th>\n",
              "      <th></th>\n",
              "      <th></th>\n",
              "      <th></th>\n",
              "      <th></th>\n",
              "    </tr>\n",
              "  </thead>\n",
              "  <tbody>\n",
              "    <tr>\n",
              "      <th>2021-12-12 11:36:39+00:00</th>\n",
              "      <td>2021-12-12T11:36:39+00:00</td>\n",
              "      <td>2.670683</td>\n",
              "      <td>0.234694</td>\n",
              "      <td>NaN</td>\n",
              "      <td>NaN</td>\n",
              "    </tr>\n",
              "    <tr>\n",
              "      <th>2021-12-12 11:36:40+00:00</th>\n",
              "      <td>2021-12-12T11:36:44+00:00</td>\n",
              "      <td>1.242830</td>\n",
              "      <td>0.488565</td>\n",
              "      <td>0.946285</td>\n",
              "      <td>0.946285</td>\n",
              "    </tr>\n",
              "    <tr>\n",
              "      <th>2021-12-12 11:36:41+00:00</th>\n",
              "      <td>2021-12-12T11:36:44+00:00</td>\n",
              "      <td>1.242830</td>\n",
              "      <td>0.488565</td>\n",
              "      <td>0.946285</td>\n",
              "      <td>0.946285</td>\n",
              "    </tr>\n",
              "    <tr>\n",
              "      <th>2021-12-12 11:36:42+00:00</th>\n",
              "      <td>2021-12-12T11:36:44+00:00</td>\n",
              "      <td>1.242830</td>\n",
              "      <td>0.488565</td>\n",
              "      <td>0.946285</td>\n",
              "      <td>0.946285</td>\n",
              "    </tr>\n",
              "    <tr>\n",
              "      <th>2021-12-12 11:36:43+00:00</th>\n",
              "      <td>2021-12-12T11:36:44+00:00</td>\n",
              "      <td>1.242830</td>\n",
              "      <td>0.488565</td>\n",
              "      <td>0.946285</td>\n",
              "      <td>0.946285</td>\n",
              "    </tr>\n",
              "    <tr>\n",
              "      <th>...</th>\n",
              "      <td>...</td>\n",
              "      <td>...</td>\n",
              "      <td>...</td>\n",
              "      <td>...</td>\n",
              "      <td>...</td>\n",
              "    </tr>\n",
              "    <tr>\n",
              "      <th>2021-12-12 11:42:32+00:00</th>\n",
              "      <td>2021-12-12T11:42:36+00:00</td>\n",
              "      <td>-1.070000</td>\n",
              "      <td>-2.897669</td>\n",
              "      <td>-2.252721</td>\n",
              "      <td>-2.252721</td>\n",
              "    </tr>\n",
              "    <tr>\n",
              "      <th>2021-12-12 11:42:33+00:00</th>\n",
              "      <td>2021-12-12T11:42:36+00:00</td>\n",
              "      <td>-1.070000</td>\n",
              "      <td>-2.897669</td>\n",
              "      <td>-2.252721</td>\n",
              "      <td>-2.252721</td>\n",
              "    </tr>\n",
              "    <tr>\n",
              "      <th>2021-12-12 11:42:34+00:00</th>\n",
              "      <td>2021-12-12T11:42:36+00:00</td>\n",
              "      <td>-1.070000</td>\n",
              "      <td>-2.897669</td>\n",
              "      <td>-2.252721</td>\n",
              "      <td>-2.252721</td>\n",
              "    </tr>\n",
              "    <tr>\n",
              "      <th>2021-12-12 11:42:35+00:00</th>\n",
              "      <td>2021-12-12T11:42:36+00:00</td>\n",
              "      <td>-1.070000</td>\n",
              "      <td>-2.897669</td>\n",
              "      <td>-2.252721</td>\n",
              "      <td>-2.252721</td>\n",
              "    </tr>\n",
              "    <tr>\n",
              "      <th>2021-12-12 11:42:36+00:00</th>\n",
              "      <td>2021-12-12T11:42:36+00:00</td>\n",
              "      <td>-1.070000</td>\n",
              "      <td>-2.897669</td>\n",
              "      <td>-2.252721</td>\n",
              "      <td>-2.252721</td>\n",
              "    </tr>\n",
              "  </tbody>\n",
              "</table>\n",
              "<p>358 rows × 5 columns</p>\n",
              "</div>"
            ],
            "text/plain": [
              "                                                time  ...  Minimum Acceleration.value\n",
              "time_index                                            ...                            \n",
              "2021-12-12 11:36:39+00:00  2021-12-12T11:36:39+00:00  ...                         NaN\n",
              "2021-12-12 11:36:40+00:00  2021-12-12T11:36:44+00:00  ...                    0.946285\n",
              "2021-12-12 11:36:41+00:00  2021-12-12T11:36:44+00:00  ...                    0.946285\n",
              "2021-12-12 11:36:42+00:00  2021-12-12T11:36:44+00:00  ...                    0.946285\n",
              "2021-12-12 11:36:43+00:00  2021-12-12T11:36:44+00:00  ...                    0.946285\n",
              "...                                              ...  ...                         ...\n",
              "2021-12-12 11:42:32+00:00  2021-12-12T11:42:36+00:00  ...                   -2.252721\n",
              "2021-12-12 11:42:33+00:00  2021-12-12T11:42:36+00:00  ...                   -2.252721\n",
              "2021-12-12 11:42:34+00:00  2021-12-12T11:42:36+00:00  ...                   -2.252721\n",
              "2021-12-12 11:42:35+00:00  2021-12-12T11:42:36+00:00  ...                   -2.252721\n",
              "2021-12-12 11:42:36+00:00  2021-12-12T11:42:36+00:00  ...                   -2.252721\n",
              "\n",
              "[358 rows x 5 columns]"
            ]
          },
          "metadata": {},
          "execution_count": 5
        }
      ]
    },
    {
      "cell_type": "code",
      "metadata": {
        "id": "COkrhF04Wt8f",
        "colab": {
          "base_uri": "https://localhost:8080/",
          "height": 351
        },
        "outputId": "27f7fbdd-7c96-4b3d-8335-7903e9a0da1c"
      },
      "source": [
        "%matplotlib inline\n",
        "# set a figure of size (15,5):\n",
        "fig = plt.figure(figsize = (15,5))\n",
        "\n",
        "plt.xlim(df.index[0],df.index[-1])\n",
        "plt.ylim((df['Minimum GPS Acceleration.value'].min()-0.1), (df['Maximum GPS Acceleration.value'].max()+0.1))\n",
        "plt.plot(df['Minimum GPS Acceleration.value'], data= df, marker='', color='blue', linewidth=2)\n",
        "plt.plot(df['Maximum GPS Acceleration.value'], data= df, marker='', color='red', linewidth=2)\n",
        "\n",
        "# set the plot title:\n",
        "plt.title('Acceleration', fontsize=14)\n",
        "\n",
        "# set the x-axis label:\n",
        "plt.xlabel('Time',fontsize=10)\n",
        "\n",
        "# set the y-axis label:\n",
        "plt.ylabel('m/s²',fontsize=10)\n",
        "\n",
        "# add a legend to the plot:\n",
        "plt.legend()\n",
        "\n",
        "# save the output to the pre-defined output directory:\n",
        "plt.savefig(root_dir + 'accelaration.png')\n",
        "\n",
        "# show the chart:\n",
        "plt.show();"
      ],
      "execution_count": 6,
      "outputs": [
        {
          "output_type": "display_data",
          "data": {
            "image/png": "[encoded data removed]",
            "text/plain": [
              "<Figure size 1080x360 with 1 Axes>"
            ]
          },
          "metadata": {
            "needs_background": "light"
          }
        }
      ]
    },
    {
      "cell_type": "code",
      "metadata": {
        "id": "Kao4Ge7dWw8N",
        "colab": {
          "base_uri": "https://localhost:8080/",
          "height": 374
        },
        "outputId": "ef1b6c18-b872-432f-8b42-70740b6fa387"
      },
      "source": [
        "# set a figure of size (10,6):\n",
        "fig = plt.figure(figsize=(10,6))\n",
        "# set subplot grid parameters (1x1 grid, 1st subplot):\n",
        "ax1 = fig.add_subplot(1,1,1)\n",
        "# add limits on the x axis defined by the sample period (0 is the first observation, -1 the final observation):\n",
        "ax1.axis(xmin = df.index[0], xmax = df.index[-1])\n",
        "# add limits on the y-axis defined by minimum and maximum of the respective series, incorporate some additional room:\n",
        "ax1.axis(ymin= (df['Minimum GPS Acceleration.value'].min()-0.1), ymax=(df['Maximum GPS Acceleration.value'].max()+0.1))\n",
        "\n",
        "text = fig.text(0.05, 0.05, \"\",\n",
        "        horizontalalignment='left',\n",
        "        verticalalignment='center', fontsize=15, color='orange')"
      ],
      "execution_count": 7,
      "outputs": [
        {
          "output_type": "display_data",
          "data": {
            "image/png": "[encoded data removed]",
            "text/plain": [
              "<Figure size 720x432 with 1 Axes>"
            ]
          },
          "metadata": {
            "needs_background": "light"
          }
        }
      ]
    },
    {
      "cell_type": "code",
      "metadata": {
        "id": "jrd9BRWWW0Rv"
      },
      "source": [
        "# define the function animate, which has the input argument of i:\n",
        "def animate(i):\n",
        "#   set the variable data to contain 0 to the (i+1)th row:\n",
        "  data =  df.iloc[:int(i+1)]  #select data range\n",
        "  #   initialise xp as an empty list:\n",
        "  xp = []\n",
        "  #   initialise yp as an empty list:\n",
        "  yp = []\n",
        "  #   initialise zp as an empty list:\n",
        "  zp = []\n",
        "  \n",
        "#   set the variable lines as equal to the variable data:\n",
        "  lines = data\n",
        "\n",
        "#   for a line in lines:\n",
        "  for line in lines:\n",
        "    #     x is equal to the index (time domain):\n",
        "    xp = data.index\n",
        "    #     y data\n",
        "    yp = data['Minimum GPS Acceleration.value']\n",
        "    #     z data\n",
        "    zp = data['Maximum GPS Acceleration.value']\n",
        "\n",
        "  #   clear ax(1):\n",
        "  ax1.clear()\n",
        "  \n",
        "  # plot min acc\n",
        "  ax1.plot(xp, yp)\n",
        "  # plot max acc\n",
        "  ax1.plot(xp, zp)\n",
        "\n",
        "  #   provide a label for the x-axis:\n",
        "  plt.xlabel('Time',fontsize=12)\n",
        "  #   provide a label for the y-axis:  \n",
        "  plt.ylabel('m/s²',fontsize=12)\n",
        "  #   provide a plot title:   \n",
        "  plt.title('Acceleration',fontsize=14)\n",
        "  text.set_text(df[\"time\"].iloc[i])\n",
        "  "
      ],
      "execution_count": 8,
      "outputs": []
    },
    {
      "cell_type": "code",
      "source": [
        "# calculate fps\n",
        "# import dateutil\n",
        "# total_mesaurements = len(df)\n",
        "# print(total_mesaurements)\n",
        "# s = df['time'].iat[0]\n",
        "# e = df['time'].iat[-1]\n",
        "# length_s = e-s\n",
        "# fps = length_s.seconds / total_mesaurements\n",
        "fps = 1\n",
        "fps"
      ],
      "metadata": {
        "colab": {
          "base_uri": "https://localhost:8080/"
        },
        "id": "011G8UQEiRlM",
        "outputId": "0cc0930d-29d5-44c9-e13c-08e8b80fbf65"
      },
      "execution_count": 9,
      "outputs": [
        {
          "output_type": "execute_result",
          "data": {
            "text/plain": [
              "1"
            ]
          },
          "metadata": {},
          "execution_count": 9
        }
      ]
    },
    {
      "cell_type": "code",
      "metadata": {
        "id": "BN7J04X5W2gN",
        "colab": {
          "base_uri": "https://localhost:8080/",
          "height": 299
        },
        "outputId": "d4a6ae2c-d9c5-42e4-a503-5f914ef279a3"
      },
      "source": [
        "# call Matplotlib animation.Funcanimation, providing the input arguments of fig, animate, the number of frames and an interval:\n",
        "interval_ms = int(fps * 1000)\n",
        "ani = animation.FuncAnimation(fig, animate, frames = len(df), interval=interval_ms)\n",
        "\n",
        "# Use the 'ffmpeg' writer:\n",
        "Writer = animation.writers['ffmpeg']\n",
        "\n",
        "# Set the frames per second and bitrate of the video:\n",
        "writer = Writer(fps=1/interval_ms*1000, metadata=dict(artist='Me'), bitrate=1800)\n",
        "# save the animation to the predefined output directory:\n",
        "ani.save(root_dir +'animation_video_interpol.mp4', writer=writer)"
      ],
      "execution_count": 10,
      "outputs": [
        {
          "output_type": "display_data",
          "data": {
            "image/png": "[encoded data removed]",
            "text/plain": [
              "<Figure size 432x288 with 1 Axes>"
            ]
          },
          "metadata": {
            "needs_background": "light"
          }
        }
      ]
    }
  ]
}